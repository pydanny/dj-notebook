{
 "cells": [
  {
   "cell_type": "markdown",
   "metadata": {},
   "source": [
    "# Usage\n",
    "\n",
    "First, find your project's `manage.py` file and open it. Copy whatever is being set to `DJANGO_SETTINGS_MODULE` into your clipboard.\n",
    "\n",
    "Create an ipython notebook in the same directory as `manage.py`. In VSCode,\n",
    "simply add a new `.ipynb` file. If using Jupyter Lab, use the `File -> New ->\n",
    "Notebook` menu option.\n",
    "\n",
    "Where `DJANGO_SETTINGS_MODULE_VALUE` is the 'dot' seperated value of your `DJANGO_SETTINGS_MODULE` setting, in the first cell enter:\n",
    "\n",
    "```python\n",
    "from dj_notebook import activate\n",
    "\n",
    "plus = activate(\"DJANGO_SETTINGS_MODULE_VALUE\")\n",
    "```\n",
    "\n",
    "See below for an example that works with our Django test project:   "
   ]
  },
  {
   "cell_type": "code",
   "execution_count": 2,
   "metadata": {},
   "outputs": [],
   "source": [
    "import pathlib\n",
    "import sys\n",
    "\n",
    "# project base\n",
    "here = pathlib.Path('.').parent\n",
    "KRAKEN_ROOT = (here / \"..\" / \"tests\" / \"django_test_project\").resolve()\n",
    "sys.path.insert(0, str(KRAKEN_ROOT))\n",
    "\n",
    "from dj_notebook import activate\n",
    "\n",
    "plus = activate(\"book_store.settings\")"
   ]
  },
  {
   "cell_type": "code",
   "execution_count": 3,
   "metadata": {},
   "outputs": [
    {
     "data": {
      "text/plain": [
       "<QuerySet []>"
      ]
     },
     "execution_count": 3,
     "metadata": {},
     "output_type": "execute_result"
    }
   ],
   "source": [
    "plus.User.objects.all()"
   ]
  },
  {
   "cell_type": "markdown",
   "metadata": {},
   "source": [
    "In future cells, you can now load and run Django objects, including the ORM. This three line snippet should give an idea of what you can now do:\n",
    "\n",
    "```python\n",
    "from django.contrib.auth import get_user_model\n",
    "User = get_user_model()\n",
    "User.objects.all()\n",
    "```"
   ]
  }
 ],
 "metadata": {
  "kernelspec": {
   "display_name": "dj-notebook",
   "language": "python",
   "name": "python3"
  },
  "language_info": {
   "codemirror_mode": {
    "name": "ipython",
    "version": 3
   },
   "file_extension": ".py",
   "mimetype": "text/x-python",
   "name": "python",
   "nbconvert_exporter": "python",
   "pygments_lexer": "ipython3",
   "version": "3.10.6"
  },
  "orig_nbformat": 4
 },
 "nbformat": 4,
 "nbformat_minor": 2
}
