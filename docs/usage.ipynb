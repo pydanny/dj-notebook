{
 "cells": [
  {
   "cell_type": "markdown",
   "metadata": {},
   "source": [
    "# Usage\n",
    "\n",
    "Create an ipython notebook in the same directory as `manage.py`. In VSCode,\n",
    "simply add a new `.ipynb` file. If using Jupyter Lab, use the `File -> New ->\n",
    "Notebook` menu option. \n",
    "\n",
    "In the first cell type the following:\n",
    "\n",
    "```python\n",
    "\n",
    "from dj_notebook import activate\n",
    "\n",
    "plus = activate(\"DJANGO_SETTINGS_MODULE_VALUE\")\n",
    "```\n",
    "\n",
    "Then, find your project's `manage.py` file and open it. Copy whatever is being set to `DJANGO_SETTINGS_MODULE` as a string argument to `activate` function. \n",
    "\n",
    "See below for an example that works with dj-notebook's Django test project:   "
   ]
  },
  {
   "cell_type": "code",
   "execution_count": 1,
   "metadata": {
    "tags": [
     "remove-input"
    ]
   },
   "outputs": [],
   "source": [
    "# Special configuration\n",
    "import pathlib\n",
    "import sys\n",
    "\n",
    "# project base\n",
    "here = pathlib.Path('.').parent\n",
    "KRAKEN_ROOT = (here / \"..\" / \"tests\" / \"django_test_project\").resolve()\n",
    "sys.path.insert(0, str(KRAKEN_ROOT))"
   ]
  },
  {
   "cell_type": "code",
   "execution_count": 2,
   "metadata": {},
   "outputs": [],
   "source": [
    "\n",
    "from dj_notebook import activate\n",
    "\n",
    "plus = activate(\"book_store.settings\")"
   ]
  },
  {
   "cell_type": "code",
   "execution_count": 3,
   "metadata": {},
   "outputs": [
    {
     "data": {
      "text/plain": [
       "<QuerySet []>"
      ]
     },
     "execution_count": 3,
     "metadata": {},
     "output_type": "execute_result"
    }
   ],
   "source": [
    "plus.User.objects.all()"
   ]
  }
 ],
 "metadata": {
  "kernelspec": {
   "display_name": "dj-notebook",
   "language": "python",
   "name": "python3"
  },
  "language_info": {
   "codemirror_mode": {
    "name": "ipython",
    "version": 3
   },
   "file_extension": ".py",
   "mimetype": "text/x-python",
   "name": "python",
   "nbconvert_exporter": "python",
   "pygments_lexer": "ipython3",
   "version": "3.10.6"
  },
  "orig_nbformat": 4
 },
 "nbformat": 4,
 "nbformat_minor": 2
}
