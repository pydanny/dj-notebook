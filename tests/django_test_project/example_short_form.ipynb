{
 "cells": [
  {
   "cell_type": "code",
   "execution_count": 2,
   "metadata": {},
   "outputs": [],
   "source": [
    "from dj_notebook import activate\n",
    "\n",
    "plus = activate(\"book_store.settings\")"
   ]
  },
  {
   "cell_type": "code",
   "execution_count": 3,
   "metadata": {},
   "outputs": [
    {
     "data": {
      "text/plain": [
       "<QuerySet []>"
      ]
     },
     "execution_count": 3,
     "metadata": {},
     "output_type": "execute_result"
    }
   ],
   "source": [
    "plus.Book.objects.all()"
   ]
  },
  {
   "cell_type": "code",
   "execution_count": 4,
   "metadata": {},
   "outputs": [
    {
     "data": {
      "text/html": [
       "<img src=\"https://mermaid.ink/img/Y2xhc3NEaWFncmFtCiAgZGphbmdvX2RiX21vZGVsc19iYXNlX01vZGVsIDx8LS0gYm9va19vdXRsZXRfbW9kZWxzX0Jvb2sKICBjbGFzcyBib29rX291dGxldF9tb2RlbHNfQm9va1siYm9va19vdXRsZXQubW9kZWxzOjpCb29rIl0KICBkamFuZ29fZGJfbW9kZWxzX3V0aWxzX0FsdGVyc0RhdGEgPHwtLSBkamFuZ29fZGJfbW9kZWxzX2Jhc2VfTW9kZWwKICBjbGFzcyBkamFuZ29fZGJfbW9kZWxzX3V0aWxzX0FsdGVyc0RhdGFbImRqYW5nby5kYi5tb2RlbHMudXRpbHM6OkFsdGVyc0RhdGEiXQogIGNsYXNzIGRqYW5nb19kYl9tb2RlbHNfYmFzZV9Nb2RlbFsiZGphbmdvLmRiLm1vZGVscy5iYXNlOjpNb2RlbCJd\"/>"
      ],
      "text/plain": [
       "<IPython.core.display.Image object>"
      ]
     },
     "metadata": {},
     "output_type": "display_data"
    }
   ],
   "source": [
    "plus.diagram(plus.Book)"
   ]
  }
 ],
 "metadata": {
  "kernelspec": {
   "display_name": "dj-notebook",
   "language": "python",
   "name": "python3"
  },
  "language_info": {
   "codemirror_mode": {
    "name": "ipython",
    "version": 3
   },
   "file_extension": ".py",
   "mimetype": "text/x-python",
   "name": "python",
   "nbconvert_exporter": "python",
   "pygments_lexer": "ipython3",
   "version": "3.10.6"
  },
  "orig_nbformat": 4
 },
 "nbformat": 4,
 "nbformat_minor": 2
}
